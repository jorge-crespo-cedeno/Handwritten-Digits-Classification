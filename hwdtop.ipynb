{
 "cells": [
  {
   "cell_type": "markdown",
   "metadata": {},
   "source": [
    "# Training Neural Networks\n",
    "\n",
    "The network we built in Part 1 is dumb, it doesn't know anything about our handwritten digits. Neural networks with non-linear activations work like universal function approximators. There is some function that maps your input to the output. For example, images of handwritten digits to class probabilities. The power of neural networks is that we can train them to approximate this function, and basically any function given enough data and compute time.\n",
    "\n",
    "<img src=\"assets/function_approx.png\" width=500px>\n",
    "\n",
    "At first the network is naive, it doesn't know the function mapping the inputs to the outputs. We train the network by showing it examples of real data, then adjusting the network parameters such that it approximates this function.\n",
    "\n",
    "To find these parameters, we need to know how poorly the network is predicting the real outputs. For this we calculate a **loss function** (also called the cost), a measure of our prediction error. For example, the mean squared loss is often used in regression and binary classification problems\n",
    "\n",
    "$$\n",
    "C = \\frac{1}{2n}\\sum_i^n{\\left(y_i - \\hat{y}_i\\right)^2}\n",
    "$$\n",
    "\n",
    "where $n$ is the number of training examples, $y_i$ are the true labels, and $\\hat{y}_i$ are the predicted labels.\n",
    "\n",
    "By minimizing this loss with respect to the network parameters, we can find configurations where the loss is at a minimum and the network is able to predict the correct labels with high accuracy. We find this minimum using a process called **gradient descent**. The gradient is the slope of the loss function and points in the direction of fastest change. To get to the minimum in the least amount of time, we then want to follow the gradient (downwards). You can think of this like descending a mountain by following the steepest slope to the base.\n",
    "\n",
    "<img src='assets/gradient_descent.png' width=350px>"
   ]
  },
  {
   "cell_type": "markdown",
   "metadata": {},
   "source": [
    "## Backpropagation\n",
    "\n",
    "For single layer networks, gradient descent is simple to implement. However, it's more complicated for deeper, multilayer neural networks like the one we've built. Complicated enough that it took about 30 years before researchers figured out how to train multilayer networks, although it's straightforward once you learn about it. \n",
    "\n",
    "This is done through **backpropagation** which is really just an application of the chain rule from calculus. It's easiest to understand if we convert a two layer network into a graph representation.\n",
    "\n",
    "<img src='assets/w1_backprop_graph.png' width=400px>\n",
    "\n",
    "In the forward pass through the network, our data and operations go from right to left here. To train the weights with gradient descent, we propagate the gradient of the cost backwards through the network. Mathematically, this is really just calculating the gradient of the loss with respect to the weights using the chain rule.\n",
    "\n",
    "$$\n",
    "\\frac{\\partial C}{\\partial w_1} = \\frac{\\partial l_1}{\\partial w_1} \\frac{\\partial s}{\\partial l_1} \\frac{\\partial l_2}{\\partial s} \\frac{\\partial C}{\\partial l_2}\n",
    "$$\n",
    "\n",
    "We update our weights using this gradient with some learning rate $\\alpha$. \n",
    "\n",
    "$$\n",
    "w^\\prime = w - \\alpha \\frac{\\partial C}{\\partial w}\n",
    "$$\n",
    "\n",
    "The learning rate is set such that the weight update steps are small enough that the iterative method settles in a minimum.\n",
    "\n",
    "The first thing we need to do for training is define our loss function. In PyTorch, you'll usually see this as `criterion`. Here we're using softmax output, so we want to use `criterion = nn.CrossEntropyLoss()` as our loss. Later when training, you use `loss = criterion(output, targets)` to calculate the actual loss.\n",
    "\n",
    "We also need to define the optimizer we're using, SGD or Adam, or something along those lines. Here I'll just use SGD with `torch.optim.SGD`, passing in the network parameters and the learning rate."
   ]
  },
  {
   "cell_type": "markdown",
   "metadata": {
    "collapsed": true
   },
   "source": [
    "## Autograd\n",
    "\n",
    "Torch provides a module, `autograd`, for automatically calculating the gradient of tensors. It does this by keeping track of operations performed on tensors. For PyTorch to track operations, you need to wrap a tensor with the `Variable` class from `torch.autograd`. You can get the tensor back with the `.data` attribute of the Variable.\n",
    "\n",
    "The gradients are computed with respect to some variable `z` with `z.backward()`. This does a backward pass through the operations that created `z`."
   ]
  },
  {
   "cell_type": "code",
   "execution_count": 1,
   "metadata": {},
   "outputs": [],
   "source": [
    "%matplotlib inline\n",
    "%config InlineBackend.figure_format = 'retina'\n",
    "\n",
    "import numpy as np\n",
    "import time\n",
    "\n",
    "import torch\n",
    "from torch import nn\n",
    "from torch import optim\n",
    "import torch.nn.functional as F\n",
    "from torch.autograd import Variable\n",
    "\n",
    "import helper"
   ]
  },
  {
   "cell_type": "code",
   "execution_count": 2,
   "metadata": {},
   "outputs": [
    {
     "data": {
      "text/plain": [
       "Variable containing:\n",
       " 1  1\n",
       " 1  1\n",
       "[torch.FloatTensor of size 2x2]"
      ]
     },
     "execution_count": 2,
     "metadata": {},
     "output_type": "execute_result"
    }
   ],
   "source": [
    "x = torch.ones(2,2)\n",
    "x = Variable(x, requires_grad=True)\n",
    "x"
   ]
  },
  {
   "cell_type": "code",
   "execution_count": 3,
   "metadata": {},
   "outputs": [
    {
     "data": {
      "text/plain": [
       "Variable containing:\n",
       " 12  12\n",
       " 12  12\n",
       "[torch.FloatTensor of size 2x2]"
      ]
     },
     "execution_count": 3,
     "metadata": {},
     "output_type": "execute_result"
    }
   ],
   "source": [
    "y = 3*(x+1)**2\n",
    "y"
   ]
  },
  {
   "cell_type": "markdown",
   "metadata": {},
   "source": [
    "Below we can see the operation that created `y`, a `MulConstant` op."
   ]
  },
  {
   "cell_type": "code",
   "execution_count": 4,
   "metadata": {},
   "outputs": [
    {
     "data": {
      "text/plain": [
       "<MulBackward0 at 0x7fcd3834fb00>"
      ]
     },
     "execution_count": 4,
     "metadata": {},
     "output_type": "execute_result"
    }
   ],
   "source": [
    "## grad_fn shows the function that generated this variable\n",
    "y.grad_fn"
   ]
  },
  {
   "cell_type": "code",
   "execution_count": 5,
   "metadata": {},
   "outputs": [
    {
     "data": {
      "text/plain": [
       "Variable containing:\n",
       " 12\n",
       "[torch.FloatTensor of size 1]"
      ]
     },
     "execution_count": 5,
     "metadata": {},
     "output_type": "execute_result"
    }
   ],
   "source": [
    "z = y.mean()\n",
    "z"
   ]
  },
  {
   "cell_type": "markdown",
   "metadata": {},
   "source": [
    "Again, we can check out how `z` was created, with a `Mean` operation."
   ]
  },
  {
   "cell_type": "code",
   "execution_count": 6,
   "metadata": {},
   "outputs": [
    {
     "data": {
      "text/plain": [
       "<MeanBackward1 at 0x7fcd382eb2b0>"
      ]
     },
     "execution_count": 6,
     "metadata": {},
     "output_type": "execute_result"
    }
   ],
   "source": [
    "z.grad_fn"
   ]
  },
  {
   "cell_type": "markdown",
   "metadata": {},
   "source": [
    "Since we haven't performed a backward pass, `x` doesn't have a gradient yet."
   ]
  },
  {
   "cell_type": "code",
   "execution_count": 7,
   "metadata": {},
   "outputs": [],
   "source": [
    "x.grad"
   ]
  },
  {
   "cell_type": "markdown",
   "metadata": {},
   "source": [
    "Now we can calculate the gradients of `z` with respect to `x` with `z.backward()`."
   ]
  },
  {
   "cell_type": "code",
   "execution_count": 8,
   "metadata": {},
   "outputs": [
    {
     "data": {
      "text/plain": [
       "Variable containing:\n",
       " 3  3\n",
       " 3  3\n",
       "[torch.FloatTensor of size 2x2]"
      ]
     },
     "execution_count": 8,
     "metadata": {},
     "output_type": "execute_result"
    }
   ],
   "source": [
    "z.backward()\n",
    "x.grad"
   ]
  },
  {
   "cell_type": "markdown",
   "metadata": {},
   "source": [
    "These gradients calculations are particularly useful for neural networks. For training we need the gradients of the weights with respect to the cost. With PyTorch, we run data forward through the network to calculate the cost, then, go backwards to calculate the gradients with respect to the cost. Once we have the gradients we can make a gradient descent step. "
   ]
  },
  {
   "cell_type": "markdown",
   "metadata": {},
   "source": [
    "## Training the network!\n",
    "\n",
    "The first thing we need to do for training is define our loss function. In PyTorch, you'll usually see this as `criterion`. Here we're using softmax output, so we want to use `criterion = nn.CrossEntropyLoss()` as our loss. Later when training, you use `loss = criterion(output, targets)` to calculate the actual loss.\n",
    "\n",
    "We also need to define the optimizer we're using, SGD or Adam, or something along those lines. Here I'll just use SGD with `torch.optim.SGD`, passing in the network parameters and the learning rate."
   ]
  },
  {
   "cell_type": "code",
   "execution_count": 9,
   "metadata": {},
   "outputs": [],
   "source": [
    "from torchvision import datasets, transforms\n",
    "\n",
    "# Define a transform to normalize the data\n",
    "transform = transforms.Compose([transforms.ToTensor(),\n",
    "                              transforms.Normalize((0.5, 0.5, 0.5), (0.5, 0.5, 0.5)),\n",
    "                             ])\n",
    "# Download and load the training data\n",
    "trainset = datasets.MNIST('MNIST_data/', download=True, train=True, transform=transform)\n",
    "trainloader = torch.utils.data.DataLoader(trainset, batch_size=64, shuffle=True)\n",
    "\n",
    "# Download and load the test data\n",
    "testset = datasets.MNIST('MNIST_data/', download=True, train=False, transform=transform)\n",
    "testloader = torch.utils.data.DataLoader(testset, batch_size=64, shuffle=True)"
   ]
  },
  {
   "cell_type": "code",
   "execution_count": 10,
   "metadata": {},
   "outputs": [],
   "source": [
    "class Network(nn.Module):\n",
    "    def __init__(self):\n",
    "        super().__init__()\n",
    "        # Defining the layers, 200, 50, 10 units each\n",
    "        self.fc1 = nn.Linear(784, 200)\n",
    "        self.fc2 = nn.Linear(200, 50)\n",
    "        # Output layer, 10 units - one for each digit\n",
    "        self.fc3 = nn.Linear(50, 10)\n",
    "        \n",
    "    def forward(self, x):\n",
    "        ''' Forward pass through the network, returns the output logits '''\n",
    "        \n",
    "        x = self.fc1(x)\n",
    "        x = F.relu(x)\n",
    "        x = self.fc2(x)\n",
    "        x = F.relu(x)\n",
    "        x = self.fc3(x)\n",
    "        \n",
    "        return x\n",
    "    \n",
    "    def predict(self, x):\n",
    "        ''' This function for predicts classes by calculating the softmax '''\n",
    "        logits = self.forward(x)\n",
    "        return F.softmax(logits)"
   ]
  },
  {
   "cell_type": "code",
   "execution_count": 11,
   "metadata": {},
   "outputs": [],
   "source": [
    "net = Network()\n",
    "criterion = nn.CrossEntropyLoss()\n",
    "optimizer = optim.SGD(net.parameters(), lr=0.01)"
   ]
  },
  {
   "cell_type": "markdown",
   "metadata": {},
   "source": [
    "First, let's consider just one learning step before looping through all the data. The general process with PyTorch:\n",
    "\n",
    "* Make a forward pass through the network to get the logits \n",
    "* Use the logits to calculate the loss\n",
    "* Perform a backward pass through the network with `loss.backward()` to calculate the gradients\n",
    "* Take a step with the optimizer to update the weights\n",
    "\n",
    "Below I'll go through one training step and print out the weights and gradients so you can see how it changes."
   ]
  },
  {
   "cell_type": "code",
   "execution_count": 12,
   "metadata": {},
   "outputs": [
    {
     "name": "stdout",
     "output_type": "stream",
     "text": [
      "Initial weights -  Parameter containing:\n",
      " 1.7326e-02  2.8647e-02  6.9348e-03  ...   2.3349e-02  1.5429e-02  2.4138e-02\n",
      "-1.4345e-02 -2.1318e-02 -1.6714e-02  ...   3.2056e-02  1.6441e-02 -1.1896e-02\n",
      " 2.5473e-02  1.7969e-02  3.2324e-02  ...   3.4638e-02 -5.7631e-03  6.6944e-03\n",
      "                ...                   ⋱                   ...                \n",
      "-1.9925e-02  2.7975e-02  3.0485e-02  ...   5.1173e-03 -1.2092e-02  1.7567e-02\n",
      "-2.8944e-02 -1.7901e-02 -2.2523e-03  ...   1.1708e-02  5.7623e-03  1.1083e-02\n",
      "-2.9518e-02  3.4957e-02 -1.2490e-02  ...   1.7544e-02 -1.9515e-02 -7.2886e-03\n",
      "[torch.FloatTensor of size 200x784]\n",
      "\n",
      "Gradient - Variable containing:\n",
      "1.00000e-02 *\n",
      "-0.0033 -0.0033 -0.0033  ...  -0.0033 -0.0033 -0.0033\n",
      "-0.4666 -0.4666 -0.4666  ...  -0.4666 -0.4666 -0.4666\n",
      "-0.0494 -0.0494 -0.0494  ...  -0.0494 -0.0494 -0.0494\n",
      "          ...             ⋱             ...          \n",
      " 0.2408  0.2408  0.2408  ...   0.2408  0.2408  0.2408\n",
      "-0.0736 -0.0736 -0.0736  ...  -0.0736 -0.0736 -0.0736\n",
      "-0.0493 -0.0493 -0.0493  ...  -0.0493 -0.0493 -0.0493\n",
      "[torch.FloatTensor of size 200x784]\n",
      "\n"
     ]
    }
   ],
   "source": [
    "print('Initial weights - ', net.fc1.weight)\n",
    "\n",
    "dataiter = iter(trainloader)\n",
    "images, labels = dataiter.next()\n",
    "\n",
    "images.resize_(64, 784)\n",
    "\n",
    "# Create Variables for the inputs and targets\n",
    "inputs = Variable(images)\n",
    "targets = Variable(labels)\n",
    "\n",
    "# Clear the gradients from all Variables\n",
    "optimizer.zero_grad()\n",
    "\n",
    "# Forward pass, then backward pass, then update weights\n",
    "output = net.forward(inputs)\n",
    "loss = criterion(output, targets)\n",
    "loss.backward()\n",
    "print('Gradient -', net.fc1.weight.grad)\n",
    "optimizer.step()"
   ]
  },
  {
   "cell_type": "code",
   "execution_count": 13,
   "metadata": {},
   "outputs": [
    {
     "name": "stdout",
     "output_type": "stream",
     "text": [
      "Updated weights -  Parameter containing:\n",
      " 1.7326e-02  2.8647e-02  6.9351e-03  ...   2.3349e-02  1.5429e-02  2.4138e-02\n",
      "-1.4299e-02 -2.1272e-02 -1.6667e-02  ...   3.2103e-02  1.6488e-02 -1.1849e-02\n",
      " 2.5478e-02  1.7973e-02  3.2329e-02  ...   3.4643e-02 -5.7581e-03  6.6993e-03\n",
      "                ...                   ⋱                   ...                \n",
      "-1.9949e-02  2.7951e-02  3.0461e-02  ...   5.0932e-03 -1.2116e-02  1.7543e-02\n",
      "-2.8937e-02 -1.7893e-02 -2.2449e-03  ...   1.1716e-02  5.7697e-03  1.1090e-02\n",
      "-2.9513e-02  3.4962e-02 -1.2485e-02  ...   1.7549e-02 -1.9510e-02 -7.2837e-03\n",
      "[torch.FloatTensor of size 200x784]\n",
      "\n"
     ]
    }
   ],
   "source": [
    "print('Updated weights - ', net.fc1.weight)"
   ]
  },
  {
   "cell_type": "markdown",
   "metadata": {},
   "source": [
    "### Training for real\n",
    "\n",
    "Now we'll put this algorithm into a loop so we can go through all the images. This is fairly straightforward. We'll loop through the mini-batches in our dataset, pass the data through the network to calculate the losses, get the gradients, then run the optimizer"
   ]
  },
  {
   "cell_type": "code",
   "execution_count": 14,
   "metadata": {},
   "outputs": [],
   "source": [
    "net = Network()\n",
    "optimizer = optim.Adam(net.parameters(), lr=0.001)"
   ]
  },
  {
   "cell_type": "code",
   "execution_count": 15,
   "metadata": {},
   "outputs": [
    {
     "name": "stderr",
     "output_type": "stream",
     "text": [
      "/opt/conda/lib/python3.6/site-packages/ipykernel_launcher.py:24: UserWarning: Implicit dimension choice for softmax has been deprecated. Change the call to include dim=X as an argument.\n"
     ]
    },
    {
     "name": "stdout",
     "output_type": "stream",
     "text": [
      "Epoch: 1/1 Loss: 2.1132 Test accuracy: 0.6115\n",
      "Epoch: 1/1 Loss: 1.5818 Test accuracy: 0.6553\n",
      "Epoch: 1/1 Loss: 1.2188 Test accuracy: 0.7770\n",
      "Epoch: 1/1 Loss: 0.8824 Test accuracy: 0.7346\n",
      "Epoch: 1/1 Loss: 0.7594 Test accuracy: 0.8121\n",
      "Epoch: 1/1 Loss: 0.6967 Test accuracy: 0.8230\n",
      "Epoch: 1/1 Loss: 0.5742 Test accuracy: 0.8447\n",
      "Epoch: 1/1 Loss: 0.5449 Test accuracy: 0.8359\n",
      "Epoch: 1/1 Loss: 0.5371 Test accuracy: 0.8507\n",
      "Epoch: 1/1 Loss: 0.5748 Test accuracy: 0.8540\n",
      "Epoch: 1/1 Loss: 0.5674 Test accuracy: 0.8355\n",
      "Epoch: 1/1 Loss: 0.4971 Test accuracy: 0.8680\n",
      "Epoch: 1/1 Loss: 0.4976 Test accuracy: 0.8827\n",
      "Epoch: 1/1 Loss: 0.4266 Test accuracy: 0.8825\n",
      "Epoch: 1/1 Loss: 0.3924 Test accuracy: 0.8781\n",
      "Epoch: 1/1 Loss: 0.4029 Test accuracy: 0.8855\n",
      "Epoch: 1/1 Loss: 0.3596 Test accuracy: 0.8860\n",
      "Epoch: 1/1 Loss: 0.4569 Test accuracy: 0.8948\n",
      "Epoch: 1/1 Loss: 0.3695 Test accuracy: 0.8855\n",
      "Epoch: 1/1 Loss: 0.3759 Test accuracy: 0.8771\n",
      "Epoch: 1/1 Loss: 0.3872 Test accuracy: 0.8873\n",
      "Epoch: 1/1 Loss: 0.3555 Test accuracy: 0.8927\n",
      "Epoch: 1/1 Loss: 0.3824 Test accuracy: 0.9007\n",
      "Epoch: 1/1 Loss: 0.4551 Test accuracy: 0.8660\n",
      "Epoch: 1/1 Loss: 0.3553 Test accuracy: 0.8973\n",
      "Epoch: 1/1 Loss: 0.3463 Test accuracy: 0.9021\n",
      "Epoch: 1/1 Loss: 0.3831 Test accuracy: 0.9096\n",
      "Epoch: 1/1 Loss: 0.3034 Test accuracy: 0.8912\n",
      "Epoch: 1/1 Loss: 0.3296 Test accuracy: 0.8947\n",
      "Epoch: 1/1 Loss: 0.3722 Test accuracy: 0.8946\n",
      "Epoch: 1/1 Loss: 0.3131 Test accuracy: 0.9103\n",
      "Epoch: 1/1 Loss: 0.3980 Test accuracy: 0.9018\n",
      "Epoch: 1/1 Loss: 0.3326 Test accuracy: 0.8996\n",
      "Epoch: 1/1 Loss: 0.3561 Test accuracy: 0.9039\n",
      "Epoch: 1/1 Loss: 0.3640 Test accuracy: 0.9056\n",
      "Epoch: 1/1 Loss: 0.3672 Test accuracy: 0.9056\n",
      "Epoch: 1/1 Loss: 0.2970 Test accuracy: 0.8946\n",
      "Epoch: 1/1 Loss: 0.3585 Test accuracy: 0.9079\n",
      "Epoch: 1/1 Loss: 0.2970 Test accuracy: 0.9067\n",
      "Epoch: 1/1 Loss: 0.3103 Test accuracy: 0.9139\n",
      "Epoch: 1/1 Loss: 0.3161 Test accuracy: 0.9126\n",
      "Epoch: 1/1 Loss: 0.2792 Test accuracy: 0.9126\n",
      "Epoch: 1/1 Loss: 0.2639 Test accuracy: 0.9125\n",
      "Epoch: 1/1 Loss: 0.3214 Test accuracy: 0.9119\n",
      "Epoch: 1/1 Loss: 0.3045 Test accuracy: 0.8966\n",
      "Epoch: 1/1 Loss: 0.3151 Test accuracy: 0.9092\n",
      "Epoch: 1/1 Loss: 0.2944 Test accuracy: 0.9130\n",
      "Epoch: 1/1 Loss: 0.3445 Test accuracy: 0.9107\n",
      "Epoch: 1/1 Loss: 0.2725 Test accuracy: 0.9116\n",
      "Epoch: 1/1 Loss: 0.3840 Test accuracy: 0.9004\n",
      "Epoch: 1/1 Loss: 0.3257 Test accuracy: 0.9138\n",
      "Epoch: 1/1 Loss: 0.2739 Test accuracy: 0.9217\n",
      "Epoch: 1/1 Loss: 0.2360 Test accuracy: 0.9081\n",
      "Epoch: 1/1 Loss: 0.2660 Test accuracy: 0.9242\n",
      "Epoch: 1/1 Loss: 0.2786 Test accuracy: 0.9156\n",
      "Epoch: 1/1 Loss: 0.3126 Test accuracy: 0.9192\n",
      "Epoch: 1/1 Loss: 0.2617 Test accuracy: 0.9167\n",
      "Epoch: 1/1 Loss: 0.3133 Test accuracy: 0.9223\n",
      "Epoch: 1/1 Loss: 0.3011 Test accuracy: 0.9191\n",
      "Epoch: 1/1 Loss: 0.2569 Test accuracy: 0.9150\n",
      "Epoch: 1/1 Loss: 0.2810 Test accuracy: 0.9227\n",
      "Epoch: 1/1 Loss: 0.2439 Test accuracy: 0.9254\n",
      "Epoch: 1/1 Loss: 0.2749 Test accuracy: 0.9256\n",
      "Epoch: 1/1 Loss: 0.2559 Test accuracy: 0.9195\n",
      "Epoch: 1/1 Loss: 0.2630 Test accuracy: 0.9283\n",
      "Epoch: 1/1 Loss: 0.2843 Test accuracy: 0.9282\n",
      "Epoch: 1/1 Loss: 0.2847 Test accuracy: 0.9252\n",
      "Epoch: 1/1 Loss: 0.2860 Test accuracy: 0.9265\n",
      "Epoch: 1/1 Loss: 0.2027 Test accuracy: 0.9257\n",
      "Epoch: 1/1 Loss: 0.2904 Test accuracy: 0.9296\n",
      "Epoch: 1/1 Loss: 0.2882 Test accuracy: 0.9329\n",
      "Epoch: 1/1 Loss: 0.2883 Test accuracy: 0.9275\n",
      "Epoch: 1/1 Loss: 0.2581 Test accuracy: 0.9199\n",
      "Epoch: 1/1 Loss: 0.2386 Test accuracy: 0.9290\n",
      "Epoch: 1/1 Loss: 0.2079 Test accuracy: 0.9321\n",
      "Epoch: 1/1 Loss: 0.2388 Test accuracy: 0.9289\n",
      "Epoch: 1/1 Loss: 0.2535 Test accuracy: 0.9271\n",
      "Epoch: 1/1 Loss: 0.2465 Test accuracy: 0.9197\n",
      "Epoch: 1/1 Loss: 0.2085 Test accuracy: 0.9282\n",
      "Epoch: 1/1 Loss: 0.2674 Test accuracy: 0.9260\n",
      "Epoch: 1/1 Loss: 0.2575 Test accuracy: 0.9358\n",
      "Epoch: 1/1 Loss: 0.2478 Test accuracy: 0.9362\n",
      "Epoch: 1/1 Loss: 0.1877 Test accuracy: 0.9352\n",
      "Epoch: 1/1 Loss: 0.2864 Test accuracy: 0.9314\n",
      "Epoch: 1/1 Loss: 0.2173 Test accuracy: 0.9337\n",
      "Epoch: 1/1 Loss: 0.2439 Test accuracy: 0.9387\n",
      "Epoch: 1/1 Loss: 0.2124 Test accuracy: 0.9388\n",
      "Epoch: 1/1 Loss: 0.2760 Test accuracy: 0.9312\n",
      "Epoch: 1/1 Loss: 0.2074 Test accuracy: 0.9354\n",
      "Epoch: 1/1 Loss: 0.2382 Test accuracy: 0.9364\n",
      "Epoch: 1/1 Loss: 0.2400 Test accuracy: 0.9338\n",
      "Epoch: 1/1 Loss: 0.2451 Test accuracy: 0.9276\n",
      "Epoch: 1/1 Loss: 0.3003 Test accuracy: 0.9335\n"
     ]
    }
   ],
   "source": [
    "epochs = 1\n",
    "steps = 0\n",
    "running_loss = 0\n",
    "print_every = 10\n",
    "for e in range(epochs):\n",
    "    for images, labels in iter(trainloader):\n",
    "        steps += 1\n",
    "        # Flatten MNIST images into a 784 long vector\n",
    "        images.resize_(images.size()[0], 784)\n",
    "\n",
    "        inputs = Variable(images)\n",
    "        targets = Variable(labels)\n",
    "        optimizer.zero_grad()\n",
    "        \n",
    "        output = net.forward(inputs)\n",
    "        loss = criterion(output, targets)\n",
    "        loss.backward()\n",
    "        optimizer.step()\n",
    "        \n",
    "        running_loss += loss.data[0]\n",
    "        \n",
    "        if steps % print_every == 0:\n",
    "            # Test accuracy\n",
    "            accuracy = 0\n",
    "            for ii, (images, labels) in enumerate(testloader):\n",
    "                \n",
    "                images = images.resize_(images.size()[0], 784)\n",
    "                inputs = Variable(images, volatile=True)\n",
    "                \n",
    "                predicted = net.predict(inputs).data\n",
    "                equality = (labels == predicted.max(1)[1])\n",
    "                accuracy += equality.type_as(torch.FloatTensor()).mean()\n",
    "            \n",
    "            print(\"Epoch: {}/{}\".format(e+1, epochs),\n",
    "                  \"Loss: {:.4f}\".format(running_loss/print_every),\n",
    "                  \"Test accuracy: {:.4f}\".format(accuracy/(ii+1)))\n",
    "            running_loss = 0"
   ]
  },
  {
   "cell_type": "code",
   "execution_count": 16,
   "metadata": {},
   "outputs": [],
   "source": [
    "dataiter = iter(testloader)\n",
    "images, labels = dataiter.next()"
   ]
  },
  {
   "cell_type": "code",
   "execution_count": 17,
   "metadata": {},
   "outputs": [
    {
     "name": "stderr",
     "output_type": "stream",
     "text": [
      "/opt/conda/lib/python3.6/site-packages/ipykernel_launcher.py:24: UserWarning: Implicit dimension choice for softmax has been deprecated. Change the call to include dim=X as an argument.\n"
     ]
    },
    {
     "data": {
      "image/png": "[encoded data removed]",
      "text/plain": [
       "<matplotlib.figure.Figure at 0x7fccd39fdc50>"
      ]
     },
     "metadata": {
      "image/png": {
       "height": 197,
       "width": 370
      }
     },
     "output_type": "display_data"
    }
   ],
   "source": [
    "img = images[0]\n",
    "ps = net.predict(Variable(img.resize_(1, 784)))\n",
    "helper.view_classify(img.resize_(1, 28, 28), ps)"
   ]
  },
  {
   "cell_type": "markdown",
   "metadata": {},
   "source": [
    "## Convolutional Networks\n",
    "\n",
    "<img src='assets/padding_strides.gif'>\n",
    "\n",
    "Next we'll check out how to build a **convolutional network** to classify MNIST images. By using weight sharing - multiple units with the same weights - convolutional layers are able to learn repeated patterns in your data. For example, a unit could learn the pattern for an eye, or a face, or lower level features like edges.\n",
    "\n",
    "Traditionally, convolutional layers are followed by max-pooling, where values in the convolutional layer are aggregated into a smaller layer. \n",
    "\n",
    "<img src='assets/Pooling_Simple_max.png' width=600px>\n",
    "\n",
    "These types of networks become really useful when you stack a bunch of layers, you make the network *deeper*. Typically you'll use a convolutional layer to change the depth, ReLU activation, then a max-pooling layer to reduce the height and width.\n",
    "\n",
    "<img src='assets/conv_net.jpg' width=600px>\n",
    "\n",
    "To finish off the network, you need to flatten the final convolutional layer into a normal fully-connected (dense) layer, then add more fully-connected layers as a classifier. The convolutional layers act as feature detectors that the classifier uses as inputs. Convolutional networks have been massively effective in image classification, object recognition, and even in natural language processing applications like speech generation.\n",
    "\n",
    "Building this new network is pretty much the same as before, but we use `nn.Conv2d` for the convolutional layers and `nn.MaxPool2d` for the max-pooling layer. (Although max-pooling has fallen out of favor recently, but this is traditional so let's stick with it.)\n",
    "\n",
    "So here I'll build a convolutional network with two convolutional layers, with ReLU activations, and max-pooling after each. The first convolutional layer will have a depth of 10, use a 5x5 kernel, with a stride of 1 (so no downsampling). The second convolutional layer will have a depth of 20, use a 5x5 kernel, and a stride of 1 again. Both layers will have \"same\" padding, but it's done differently here than in TensorFlow. Instead of saying we want \"same\" padding and letting the framework pad the input tensors, we define how much padding we want on the tensors. The padding should be set to 2 then, since we are using 5x5 kernels and we want the center of the kernel to lie on the edges of the images. Then, there will be two pixels of the kernel falling over the edge of the images.\n",
    "\n",
    "We'll flatten the final convolutional layer and pass it to a fully connected layer. We can change the shape of the Variable `x` with `x.view`. This is then passed to the fully connected layer, which then goes to the output layer with 10 units."
   ]
  },
  {
   "cell_type": "code",
   "execution_count": 18,
   "metadata": {},
   "outputs": [],
   "source": [
    "class ConvNet(nn.Module):\n",
    "    def __init__(self, n_conv1=10, n_conv2=20):\n",
    "        super().__init__()\n",
    "        \n",
    "        self.n_conv1, self.n_conv2 = n_conv1, n_conv2\n",
    "        \n",
    "        # conv layer with depth n_conv1, 5x5 kernels, and \"same\" padding\n",
    "        self.conv1 = nn.Conv2d(1, n_conv1, 5, padding=2)\n",
    "        # conv layer with depth n_conv2, 5x5 kernels, and \"same\" padding\n",
    "        self.conv2 = nn.Conv2d(n_conv1, n_conv2, 5, padding=2)\n",
    "        self.pool = nn.MaxPool2d(2, 2)\n",
    "        \n",
    "        # The second convolutional layer will have size [7, 7, n_conv2], fc1 flattens it\n",
    "        self.fc1 = nn.Linear(n_conv2*7*7, 50)\n",
    "        self.fc2 = nn.Linear(50, 10)\n",
    "    \n",
    "    def forward(self, x):\n",
    "        # First conv layer, then ReLU, then max-pooling\n",
    "        x = F.relu(self.pool(self.conv1(x)))\n",
    "        # Second conv layer, then ReLU, then max-pooling\n",
    "        x = F.relu(self.pool(self.conv2(x)))\n",
    "        # Flatten conv layer by reshaping\n",
    "        x = x.view(-1, self.n_conv2*7*7)\n",
    "        # Fully connected layers\n",
    "        x = F.relu(self.fc1(x))\n",
    "        x = self.fc2(x)\n",
    "        #x = F.relu(self.fc3(x))\n",
    "        \n",
    "        return x\n",
    "    \n",
    "    def predict(self, x):\n",
    "        logits = self.forward(x)\n",
    "        return F.softmax(logits)"
   ]
  },
  {
   "cell_type": "code",
   "execution_count": 19,
   "metadata": {},
   "outputs": [
    {
     "name": "stderr",
     "output_type": "stream",
     "text": [
      "/opt/conda/lib/python3.6/site-packages/ipykernel_launcher.py:33: UserWarning: Implicit dimension choice for softmax has been deprecated. Change the call to include dim=X as an argument.\n"
     ]
    },
    {
     "name": "stdout",
     "output_type": "stream",
     "text": [
      "Epoch: 1/1.. Loss: 2.1808.. Test accuracy: 0.3381.. 0.0331 s/batch\n",
      "Epoch: 1/1.. Loss: 1.4309.. Test accuracy: 0.8038.. 0.0320 s/batch\n",
      "Epoch: 1/1.. Loss: 0.5911.. Test accuracy: 0.8509.. 0.0318 s/batch\n",
      "Epoch: 1/1.. Loss: 0.4654.. Test accuracy: 0.8891.. 0.0313 s/batch\n",
      "Epoch: 1/1.. Loss: 0.3673.. Test accuracy: 0.8946.. 0.0326 s/batch\n",
      "Epoch: 1/1.. Loss: 0.3560.. Test accuracy: 0.9262.. 0.0325 s/batch\n",
      "Epoch: 1/1.. Loss: 0.2809.. Test accuracy: 0.9306.. 0.0326 s/batch\n",
      "Epoch: 1/1.. Loss: 0.2425.. Test accuracy: 0.9285.. 0.0329 s/batch\n",
      "Epoch: 1/1.. Loss: 0.2098.. Test accuracy: 0.9415.. 0.0334 s/batch\n",
      "Epoch: 1/1.. Loss: 0.2191.. Test accuracy: 0.9468.. 0.0331 s/batch\n",
      "Epoch: 1/1.. Loss: 0.2050.. Test accuracy: 0.9480.. 0.0326 s/batch\n",
      "Epoch: 1/1.. Loss: 0.1780.. Test accuracy: 0.9520.. 0.0331 s/batch\n",
      "Epoch: 1/1.. Loss: 0.1474.. Test accuracy: 0.9495.. 0.0325 s/batch\n",
      "Epoch: 1/1.. Loss: 0.1488.. Test accuracy: 0.9498.. 0.0322 s/batch\n",
      "Epoch: 1/1.. Loss: 0.1463.. Test accuracy: 0.9570.. 0.0339 s/batch\n",
      "Epoch: 1/1.. Loss: 0.1038.. Test accuracy: 0.9627.. 0.0321 s/batch\n",
      "Epoch: 1/1.. Loss: 0.1243.. Test accuracy: 0.9611.. 0.0320 s/batch\n",
      "Epoch: 1/1.. Loss: 0.1455.. Test accuracy: 0.9638.. 0.0328 s/batch\n",
      "Epoch: 1/1.. Loss: 0.1209.. Test accuracy: 0.9670.. 0.0328 s/batch\n",
      "Epoch: 1/1.. Loss: 0.1357.. Test accuracy: 0.9666.. 0.0327 s/batch\n",
      "Epoch: 1/1.. Loss: 0.1243.. Test accuracy: 0.9657.. 0.0319 s/batch\n",
      "Epoch: 1/1.. Loss: 0.1442.. Test accuracy: 0.9692.. 0.0326 s/batch\n",
      "Epoch: 1/1.. Loss: 0.1310.. Test accuracy: 0.9688.. 0.0319 s/batch\n",
      "Epoch: 1/1.. Loss: 0.1148.. Test accuracy: 0.9643.. 0.0313 s/batch\n",
      "Epoch: 1/1.. Loss: 0.1379.. Test accuracy: 0.9704.. 0.0326 s/batch\n",
      "Epoch: 1/1.. Loss: 0.1333.. Test accuracy: 0.9659.. 0.0333 s/batch\n",
      "Epoch: 1/1.. Loss: 0.1165.. Test accuracy: 0.9743.. 0.0326 s/batch\n",
      "Epoch: 1/1.. Loss: 0.0962.. Test accuracy: 0.9746.. 0.0317 s/batch\n",
      "Epoch: 1/1.. Loss: 0.1121.. Test accuracy: 0.9638.. 0.0316 s/batch\n",
      "Epoch: 1/1.. Loss: 0.1092.. Test accuracy: 0.9724.. 0.0325 s/batch\n",
      "Epoch: 1/1.. Loss: 0.0965.. Test accuracy: 0.9753.. 0.0326 s/batch\n",
      "Epoch: 1/1.. Loss: 0.0833.. Test accuracy: 0.9718.. 0.0323 s/batch\n",
      "Epoch: 1/1.. Loss: 0.1171.. Test accuracy: 0.9745.. 0.0331 s/batch\n",
      "Epoch: 1/1.. Loss: 0.0900.. Test accuracy: 0.9735.. 0.0341 s/batch\n",
      "Epoch: 1/1.. Loss: 0.1063.. Test accuracy: 0.9787.. 0.0341 s/batch\n",
      "Epoch: 1/1.. Loss: 0.0973.. Test accuracy: 0.9795.. 0.0337 s/batch\n",
      "Epoch: 1/1.. Loss: 0.0914.. Test accuracy: 0.9753.. 0.0328 s/batch\n",
      "Epoch: 1/1.. Loss: 0.0758.. Test accuracy: 0.9752.. 0.0340 s/batch\n",
      "Epoch: 1/1.. Loss: 0.0878.. Test accuracy: 0.9765.. 0.0342 s/batch\n",
      "Epoch: 1/1.. Loss: 0.0918.. Test accuracy: 0.9697.. 0.0339 s/batch\n",
      "Epoch: 1/1.. Loss: 0.1038.. Test accuracy: 0.9773.. 0.0338 s/batch\n",
      "Epoch: 1/1.. Loss: 0.1122.. Test accuracy: 0.9758.. 0.0336 s/batch\n",
      "Epoch: 1/1.. Loss: 0.0914.. Test accuracy: 0.9813.. 0.0338 s/batch\n",
      "Epoch: 1/1.. Loss: 0.0871.. Test accuracy: 0.9796.. 0.0343 s/batch\n",
      "Epoch: 1/1.. Loss: 0.0832.. Test accuracy: 0.9789.. 0.0342 s/batch\n",
      "Epoch: 1/1.. Loss: 0.0737.. Test accuracy: 0.9821.. 0.0344 s/batch\n"
     ]
    }
   ],
   "source": [
    "net = ConvNet()\n",
    "criterion = nn.CrossEntropyLoss()\n",
    "optimizer = optim.Adam(net.parameters(), lr=0.001)\n",
    "\n",
    "trainloader.batch_size = 128\n",
    "\n",
    "epochs = 1\n",
    "steps = 0\n",
    "running_loss = 0\n",
    "print_every = 20\n",
    "for e in range(epochs):\n",
    "    start = time.time()\n",
    "    for images, labels in iter(trainloader):\n",
    "        \n",
    "        steps += 1\n",
    "\n",
    "        inputs = Variable(images)\n",
    "        targets = Variable(labels)\n",
    "        optimizer.zero_grad()\n",
    "        \n",
    "        output = net.forward(inputs)\n",
    "        loss = criterion(output, targets)\n",
    "        loss.backward()\n",
    "        optimizer.step()\n",
    "        \n",
    "        running_loss += loss.data[0]\n",
    "        \n",
    "        if steps % print_every == 0:\n",
    "            stop = time.time()\n",
    "            # Test accuracy\n",
    "            accuracy = 0\n",
    "            for ii, (images, labels) in enumerate(testloader):\n",
    "                \n",
    "                #images = images.resize_(images.size()[0], 784)\n",
    "                inputs = Variable(images, volatile=True)\n",
    "                \n",
    "                predicted = net.predict(inputs).data\n",
    "                equality = (labels == predicted.max(1)[1])\n",
    "                accuracy += equality.type_as(torch.FloatTensor()).mean()\n",
    "            \n",
    "            print(\"Epoch: {}/{}..\".format(e+1, epochs),\n",
    "                  \"Loss: {:.4f}..\".format(running_loss/print_every),\n",
    "                  \"Test accuracy: {:.4f}..\".format(accuracy/(ii+1)),\n",
    "                  \"{:.4f} s/batch\".format((stop - start)/print_every)\n",
    "                 )\n",
    "            running_loss = 0\n",
    "            start = time.time()"
   ]
  },
  {
   "cell_type": "markdown",
   "metadata": {},
   "source": [
    "## Speeding things up\n",
    "\n",
    "We can greatly speed up our training by running the matrix operations on a GPU with CUDA. In PyTorch, we do this by sending the tensors to the GPU. First, you set the network to use the GPU with `net.cuda()`. Then, the input and target tensors are sent to the GPU, typically with some flag\n",
    "\n",
    "```\n",
    "if cuda == True:\n",
    "    inputs, targets = inputs.cuda(), targets.cuda()\n",
    "```\n",
    "\n",
    "And that's it. The output of the network will again be a tensor on the GPU, so to get it back to the CPU for further operations (such as with Numpy), you use `output = output.cpu()`. Similarly, to set the network back to running on the CPU, use `net.cpu()`."
   ]
  },
  {
   "cell_type": "code",
   "execution_count": 20,
   "metadata": {},
   "outputs": [
    {
     "name": "stderr",
     "output_type": "stream",
     "text": [
      "/opt/conda/lib/python3.6/site-packages/ipykernel_launcher.py:33: UserWarning: Implicit dimension choice for softmax has been deprecated. Change the call to include dim=X as an argument.\n"
     ]
    },
    {
     "name": "stdout",
     "output_type": "stream",
     "text": [
      "Epoch: 1/5.. Loss: 1.6800.. Test accuracy: 0.7784.. 0.0592 s/batch\n",
      "Epoch: 1/5.. Loss: 0.5364.. Test accuracy: 0.8919.. 0.0114 s/batch\n",
      "Epoch: 1/5.. Loss: 0.3349.. Test accuracy: 0.9217.. 0.0112 s/batch\n",
      "Epoch: 1/5.. Loss: 0.2536.. Test accuracy: 0.9296.. 0.0112 s/batch\n",
      "Epoch: 1/5.. Loss: 0.2095.. Test accuracy: 0.9442.. 0.0112 s/batch\n",
      "Epoch: 1/5.. Loss: 0.1648.. Test accuracy: 0.9566.. 0.0112 s/batch\n",
      "Epoch: 1/5.. Loss: 0.1627.. Test accuracy: 0.9593.. 0.0111 s/batch\n",
      "Epoch: 1/5.. Loss: 0.1480.. Test accuracy: 0.9618.. 0.0111 s/batch\n",
      "Epoch: 1/5.. Loss: 0.1280.. Test accuracy: 0.9672.. 0.0111 s/batch\n",
      "Epoch: 1/5.. Loss: 0.1271.. Test accuracy: 0.9656.. 0.0111 s/batch\n",
      "Epoch: 1/5.. Loss: 0.1085.. Test accuracy: 0.9731.. 0.0112 s/batch\n",
      "Epoch: 1/5.. Loss: 0.1088.. Test accuracy: 0.9655.. 0.0111 s/batch\n",
      "Epoch: 1/5.. Loss: 0.1123.. Test accuracy: 0.9756.. 0.0112 s/batch\n",
      "Epoch: 1/5.. Loss: 0.1052.. Test accuracy: 0.9778.. 0.0112 s/batch\n",
      "Epoch: 1/5.. Loss: 0.0912.. Test accuracy: 0.9782.. 0.0112 s/batch\n",
      "Epoch: 1/5.. Loss: 0.0842.. Test accuracy: 0.9737.. 0.0112 s/batch\n",
      "Epoch: 1/5.. Loss: 0.0982.. Test accuracy: 0.9790.. 0.0116 s/batch\n",
      "Epoch: 1/5.. Loss: 0.0918.. Test accuracy: 0.9770.. 0.0116 s/batch\n",
      "Epoch: 2/5.. Loss: 0.0824.. Test accuracy: 0.9766.. 0.0028 s/batch\n",
      "Epoch: 2/5.. Loss: 0.0874.. Test accuracy: 0.9815.. 0.0114 s/batch\n",
      "Epoch: 2/5.. Loss: 0.0691.. Test accuracy: 0.9784.. 0.0114 s/batch\n",
      "Epoch: 2/5.. Loss: 0.0738.. Test accuracy: 0.9772.. 0.0112 s/batch\n",
      "Epoch: 2/5.. Loss: 0.0655.. Test accuracy: 0.9804.. 0.0112 s/batch\n",
      "Epoch: 2/5.. Loss: 0.0712.. Test accuracy: 0.9808.. 0.0114 s/batch\n",
      "Epoch: 2/5.. Loss: 0.0656.. Test accuracy: 0.9832.. 0.0113 s/batch\n",
      "Epoch: 2/5.. Loss: 0.0697.. Test accuracy: 0.9818.. 0.0112 s/batch\n",
      "Epoch: 2/5.. Loss: 0.0630.. Test accuracy: 0.9840.. 0.0112 s/batch\n",
      "Epoch: 2/5.. Loss: 0.0723.. Test accuracy: 0.9804.. 0.0112 s/batch\n",
      "Epoch: 2/5.. Loss: 0.0634.. Test accuracy: 0.9841.. 0.0114 s/batch\n",
      "Epoch: 2/5.. Loss: 0.0579.. Test accuracy: 0.9823.. 0.0113 s/batch\n",
      "Epoch: 2/5.. Loss: 0.0675.. Test accuracy: 0.9818.. 0.0113 s/batch\n",
      "Epoch: 2/5.. Loss: 0.0560.. Test accuracy: 0.9825.. 0.0113 s/batch\n",
      "Epoch: 2/5.. Loss: 0.0596.. Test accuracy: 0.9839.. 0.0112 s/batch\n",
      "Epoch: 2/5.. Loss: 0.0544.. Test accuracy: 0.9854.. 0.0112 s/batch\n",
      "Epoch: 2/5.. Loss: 0.0601.. Test accuracy: 0.9849.. 0.0113 s/batch\n",
      "Epoch: 2/5.. Loss: 0.0507.. Test accuracy: 0.9828.. 0.0111 s/batch\n",
      "Epoch: 2/5.. Loss: 0.0683.. Test accuracy: 0.9845.. 0.0110 s/batch\n",
      "Epoch: 3/5.. Loss: 0.0562.. Test accuracy: 0.9856.. 0.0054 s/batch\n",
      "Epoch: 3/5.. Loss: 0.0418.. Test accuracy: 0.9842.. 0.0113 s/batch\n",
      "Epoch: 3/5.. Loss: 0.0475.. Test accuracy: 0.9842.. 0.0116 s/batch\n",
      "Epoch: 3/5.. Loss: 0.0543.. Test accuracy: 0.9853.. 0.0113 s/batch\n",
      "Epoch: 3/5.. Loss: 0.0470.. Test accuracy: 0.9872.. 0.0112 s/batch\n",
      "Epoch: 3/5.. Loss: 0.0402.. Test accuracy: 0.9868.. 0.0112 s/batch\n",
      "Epoch: 3/5.. Loss: 0.0561.. Test accuracy: 0.9830.. 0.0111 s/batch\n",
      "Epoch: 3/5.. Loss: 0.0574.. Test accuracy: 0.9857.. 0.0113 s/batch\n",
      "Epoch: 3/5.. Loss: 0.0544.. Test accuracy: 0.9868.. 0.0112 s/batch\n",
      "Epoch: 3/5.. Loss: 0.0436.. Test accuracy: 0.9873.. 0.0110 s/batch\n",
      "Epoch: 3/5.. Loss: 0.0518.. Test accuracy: 0.9835.. 0.0111 s/batch\n",
      "Epoch: 3/5.. Loss: 0.0452.. Test accuracy: 0.9861.. 0.0113 s/batch\n",
      "Epoch: 3/5.. Loss: 0.0488.. Test accuracy: 0.9870.. 0.0113 s/batch\n",
      "Epoch: 3/5.. Loss: 0.0450.. Test accuracy: 0.9862.. 0.0111 s/batch\n",
      "Epoch: 3/5.. Loss: 0.0601.. Test accuracy: 0.9845.. 0.0111 s/batch\n",
      "Epoch: 3/5.. Loss: 0.0452.. Test accuracy: 0.9869.. 0.0111 s/batch\n",
      "Epoch: 3/5.. Loss: 0.0466.. Test accuracy: 0.9845.. 0.0112 s/batch\n",
      "Epoch: 3/5.. Loss: 0.0511.. Test accuracy: 0.9887.. 0.0112 s/batch\n",
      "Epoch: 3/5.. Loss: 0.0428.. Test accuracy: 0.9866.. 0.0113 s/batch\n",
      "Epoch: 4/5.. Loss: 0.0425.. Test accuracy: 0.9882.. 0.0080 s/batch\n",
      "Epoch: 4/5.. Loss: 0.0348.. Test accuracy: 0.9873.. 0.0113 s/batch\n",
      "Epoch: 4/5.. Loss: 0.0387.. Test accuracy: 0.9866.. 0.0110 s/batch\n",
      "Epoch: 4/5.. Loss: 0.0359.. Test accuracy: 0.9868.. 0.0111 s/batch\n",
      "Epoch: 4/5.. Loss: 0.0413.. Test accuracy: 0.9869.. 0.0112 s/batch\n",
      "Epoch: 4/5.. Loss: 0.0330.. Test accuracy: 0.9865.. 0.0112 s/batch\n",
      "Epoch: 4/5.. Loss: 0.0365.. Test accuracy: 0.9884.. 0.0112 s/batch\n",
      "Epoch: 4/5.. Loss: 0.0389.. Test accuracy: 0.9874.. 0.0112 s/batch\n",
      "Epoch: 4/5.. Loss: 0.0369.. Test accuracy: 0.9865.. 0.0113 s/batch\n",
      "Epoch: 4/5.. Loss: 0.0344.. Test accuracy: 0.9882.. 0.0113 s/batch\n",
      "Epoch: 4/5.. Loss: 0.0423.. Test accuracy: 0.9875.. 0.0112 s/batch\n",
      "Epoch: 4/5.. Loss: 0.0343.. Test accuracy: 0.9842.. 0.0110 s/batch\n",
      "Epoch: 4/5.. Loss: 0.0445.. Test accuracy: 0.9884.. 0.0111 s/batch\n",
      "Epoch: 4/5.. Loss: 0.0367.. Test accuracy: 0.9883.. 0.0111 s/batch\n",
      "Epoch: 4/5.. Loss: 0.0352.. Test accuracy: 0.9854.. 0.0110 s/batch\n",
      "Epoch: 4/5.. Loss: 0.0273.. Test accuracy: 0.9867.. 0.0110 s/batch\n",
      "Epoch: 4/5.. Loss: 0.0447.. Test accuracy: 0.9892.. 0.0113 s/batch\n",
      "Epoch: 4/5.. Loss: 0.0399.. Test accuracy: 0.9888.. 0.0112 s/batch\n",
      "Epoch: 4/5.. Loss: 0.0375.. Test accuracy: 0.9881.. 0.0111 s/batch\n",
      "Epoch: 5/5.. Loss: 0.0245.. Test accuracy: 0.9894.. 0.0107 s/batch\n",
      "Epoch: 5/5.. Loss: 0.0270.. Test accuracy: 0.9889.. 0.0111 s/batch\n",
      "Epoch: 5/5.. Loss: 0.0351.. Test accuracy: 0.9875.. 0.0112 s/batch\n",
      "Epoch: 5/5.. Loss: 0.0256.. Test accuracy: 0.9889.. 0.0112 s/batch\n",
      "Epoch: 5/5.. Loss: 0.0307.. Test accuracy: 0.9886.. 0.0112 s/batch\n",
      "Epoch: 5/5.. Loss: 0.0325.. Test accuracy: 0.9876.. 0.0115 s/batch\n",
      "Epoch: 5/5.. Loss: 0.0300.. Test accuracy: 0.9824.. 0.0110 s/batch\n",
      "Epoch: 5/5.. Loss: 0.0359.. Test accuracy: 0.9874.. 0.0112 s/batch\n",
      "Epoch: 5/5.. Loss: 0.0235.. Test accuracy: 0.9880.. 0.0112 s/batch\n",
      "Epoch: 5/5.. Loss: 0.0328.. Test accuracy: 0.9888.. 0.0112 s/batch\n",
      "Epoch: 5/5.. Loss: 0.0496.. Test accuracy: 0.9878.. 0.0112 s/batch\n",
      "Epoch: 5/5.. Loss: 0.0305.. Test accuracy: 0.9886.. 0.0113 s/batch\n",
      "Epoch: 5/5.. Loss: 0.0409.. Test accuracy: 0.9899.. 0.0110 s/batch\n",
      "Epoch: 5/5.. Loss: 0.0276.. Test accuracy: 0.9883.. 0.0115 s/batch\n",
      "Epoch: 5/5.. Loss: 0.0250.. Test accuracy: 0.9901.. 0.0114 s/batch\n",
      "Epoch: 5/5.. Loss: 0.0341.. Test accuracy: 0.9894.. 0.0111 s/batch\n",
      "Epoch: 5/5.. Loss: 0.0360.. Test accuracy: 0.9895.. 0.0110 s/batch\n",
      "Epoch: 5/5.. Loss: 0.0421.. Test accuracy: 0.9884.. 0.0112 s/batch\n"
     ]
    }
   ],
   "source": [
    "net = ConvNet()\n",
    "criterion = nn.CrossEntropyLoss()\n",
    "optimizer = optim.Adam(net.parameters(), lr=0.001)\n",
    "\n",
    "net.cuda()\n",
    "\n",
    "trainloader.batch_size = 128\n",
    "epochs = 5\n",
    "steps = 0\n",
    "running_loss = 0\n",
    "print_every = 50\n",
    "for e in range(epochs):\n",
    "    start = time.time()\n",
    "    for images, labels in iter(trainloader):\n",
    "        \n",
    "        steps += 1\n",
    "\n",
    "        inputs = Variable(images)\n",
    "        targets = Variable(labels)\n",
    "        \n",
    "        inputs, targets = inputs.cuda(), targets.cuda()\n",
    "        \n",
    "        optimizer.zero_grad()\n",
    "        \n",
    "        output = net.forward(inputs)\n",
    "        loss = criterion(output, targets)\n",
    "        loss.backward()\n",
    "        optimizer.step()\n",
    "        \n",
    "        running_loss += loss.data[0]\n",
    "        \n",
    "        if steps % print_every == 0:\n",
    "            stop = time.time()\n",
    "            # Test accuracy\n",
    "            accuracy = 0\n",
    "            for ii, (images, labels) in enumerate(testloader):\n",
    "                \n",
    "                inputs = Variable(images, volatile=True)\n",
    "                inputs = inputs.cuda()\n",
    "                \n",
    "                # Get the class prediction and bring it back to the CPU\n",
    "                predicted = net.predict(inputs).data.cpu()\n",
    "                equality = (labels == predicted.max(1)[1])\n",
    "                accuracy += equality.type_as(torch.FloatTensor()).mean()\n",
    "            \n",
    "            print(\"Epoch: {}/{}..\".format(e+1, epochs),\n",
    "                  \"Loss: {:.4f}..\".format(running_loss/print_every),\n",
    "                  \"Test accuracy: {:.4f}..\".format(accuracy/(ii+1)),\n",
    "                  \"{:.4f} s/batch\".format((stop - start)/print_every)\n",
    "                 )\n",
    "            running_loss = 0\n",
    "            start = time.time()"
   ]
  },
  {
   "cell_type": "markdown",
   "metadata": {},
   "source": [
    "## Saving and loading models\n",
    "\n",
    "Now that we know how to build and train models, we actually need to be able to use these things after training. The general way to do this is building a dictionary with hyperparameters such as sizes of the convolutional layers and such. The parameters and other information needed to rebuild the model are stored in `net.state_dict()`. Then you build a dictionary that looks something like\n",
    "\n",
    "```python\n",
    "checkpoint = {'n_conv1': 10,\n",
    "              'n_conv2': 20,\n",
    "              'state_dict': model.state_dict()}\n",
    "```\n",
    "\n",
    "You save this check point to a file with `torch.save(checkpoint, file_object)`.\n",
    "\n",
    "Then, to load a checkpoint, use `torch.load`. This loads the whole dictionary so you have the hyperparameters to rebuild the network as well as `state_dict` which contains the values for weights and such."
   ]
  },
  {
   "cell_type": "code",
   "execution_count": 21,
   "metadata": {},
   "outputs": [],
   "source": [
    "## Save the model\n",
    "filename = 'mnist1.ckpt'\n",
    "checkpoint = {'n_conv1': net.n_conv1,\n",
    "              'n_conv2': net.n_conv2,\n",
    "              'state_dict': net.state_dict()}\n",
    "with open(filename, 'wb') as f:\n",
    "    torch.save(checkpoint, f)"
   ]
  },
  {
   "cell_type": "code",
   "execution_count": 22,
   "metadata": {},
   "outputs": [],
   "source": [
    "## Load the model\n",
    "filename = 'mnist1.ckpt'\n",
    "with open(filename, 'rb') as f:\n",
    "        checkpoint = torch.load(f)\n",
    "\n",
    "model = ConvNet(n_conv1=checkpoint['n_conv1'],\n",
    "                n_conv2=checkpoint['n_conv2'])\n",
    "model.load_state_dict(checkpoint['state_dict'])"
   ]
  },
  {
   "cell_type": "code",
   "execution_count": 23,
   "metadata": {},
   "outputs": [],
   "source": [
    "dataiter = iter(testloader)"
   ]
  },
  {
   "cell_type": "code",
   "execution_count": 24,
   "metadata": {},
   "outputs": [
    {
     "name": "stderr",
     "output_type": "stream",
     "text": [
      "/opt/conda/lib/python3.6/site-packages/ipykernel_launcher.py:33: UserWarning: Implicit dimension choice for softmax has been deprecated. Change the call to include dim=X as an argument.\n"
     ]
    },
    {
     "data": {
      "image/png": "[encoded data removed]",
      "text/plain": [
       "<matplotlib.figure.Figure at 0x7fccd00ac5c0>"
      ]
     },
     "metadata": {
      "image/png": {
       "height": 197,
       "width": 370
      }
     },
     "output_type": "display_data"
    }
   ],
   "source": [
    "images, labels = dataiter.next()\n",
    "img = images[0]\n",
    "ps = model.predict(Variable(img.resize_(1, *img.size())))\n",
    "helper.view_classify(img, ps)"
   ]
  },
  {
   "cell_type": "code",
   "execution_count": null,
   "metadata": {},
   "outputs": [],
   "source": []
  }
 ],
 "metadata": {
  "kernelspec": {
   "display_name": "Python 3",
   "language": "python",
   "name": "python3"
  },
  "language_info": {
   "codemirror_mode": {
    "name": "ipython",
    "version": 3
   },
   "file_extension": ".py",
   "mimetype": "text/x-python",
   "name": "python",
   "nbconvert_exporter": "python",
   "pygments_lexer": "ipython3",
   "version": "3.6.3"
  }
 },
 "nbformat": 4,
 "nbformat_minor": 2
}
